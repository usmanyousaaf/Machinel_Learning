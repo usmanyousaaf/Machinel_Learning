{
  "nbformat": 4,
  "nbformat_minor": 0,
  "metadata": {
    "colab": {
      "provenance": []
    },
    "kernelspec": {
      "name": "python3",
      "display_name": "Python 3"
    },
    "language_info": {
      "name": "python"
    }
  },
  "cells": [
    {
      "cell_type": "code",
      "source": [
        "import numpy as np\n",
        "from sklearn.datasets import load_diabetes"
      ],
      "metadata": {
        "id": "680sMB-lIYLZ"
      },
      "execution_count": 3,
      "outputs": []
    },
    {
      "cell_type": "code",
      "source": [
        "X,y =load_diabetes(return_X_y=True)\n"
      ],
      "metadata": {
        "id": "ibDkOWiJI31I"
      },
      "execution_count": 5,
      "outputs": []
    },
    {
      "cell_type": "code",
      "source": [
        "X"
      ],
      "metadata": {
        "colab": {
          "base_uri": "https://localhost:8080/"
        },
        "id": "1arwY7TZJ8sY",
        "outputId": "3ae2ae2d-cbec-4416-ff84-98db7b236647"
      },
      "execution_count": 6,
      "outputs": [
        {
          "output_type": "execute_result",
          "data": {
            "text/plain": [
              "array([[ 0.03807591,  0.05068012,  0.06169621, ..., -0.00259226,\n",
              "         0.01990749, -0.01764613],\n",
              "       [-0.00188202, -0.04464164, -0.05147406, ..., -0.03949338,\n",
              "        -0.06833155, -0.09220405],\n",
              "       [ 0.08529891,  0.05068012,  0.04445121, ..., -0.00259226,\n",
              "         0.00286131, -0.02593034],\n",
              "       ...,\n",
              "       [ 0.04170844,  0.05068012, -0.01590626, ..., -0.01107952,\n",
              "        -0.04688253,  0.01549073],\n",
              "       [-0.04547248, -0.04464164,  0.03906215, ...,  0.02655962,\n",
              "         0.04452873, -0.02593034],\n",
              "       [-0.04547248, -0.04464164, -0.0730303 , ..., -0.03949338,\n",
              "        -0.00422151,  0.00306441]])"
            ]
          },
          "metadata": {},
          "execution_count": 6
        }
      ]
    },
    {
      "cell_type": "code",
      "source": [
        "X.shape"
      ],
      "metadata": {
        "colab": {
          "base_uri": "https://localhost:8080/"
        },
        "id": "JvKwZk13J_y1",
        "outputId": "909ebbb2-c90e-47a2-861f-f78523c5a5b5"
      },
      "execution_count": 8,
      "outputs": [
        {
          "output_type": "execute_result",
          "data": {
            "text/plain": [
              "(442, 10)"
            ]
          },
          "metadata": {},
          "execution_count": 8
        }
      ]
    },
    {
      "cell_type": "code",
      "source": [
        "y.shape         # y is a output columnsklearn"
      ],
      "metadata": {
        "colab": {
          "base_uri": "https://localhost:8080/"
        },
        "id": "soQocDFKKAe7",
        "outputId": "6fcf3020-fd3f-4ee3-d0ad-2bd5e3a479db"
      },
      "execution_count": 9,
      "outputs": [
        {
          "output_type": "execute_result",
          "data": {
            "text/plain": [
              "(442,)"
            ]
          },
          "metadata": {},
          "execution_count": 9
        }
      ]
    },
    {
      "cell_type": "markdown",
      "source": [
        "# Using sklearn linear Regression"
      ],
      "metadata": {
        "id": "gyUw4WHmKXJ3"
      }
    },
    {
      "cell_type": "code",
      "source": [
        "from sklearn.model_selection import train_test_split\n",
        "X_train, X_test, y_train, y_test = train_test_split(X, y, test_size=0.2, random_state=2)\n"
      ],
      "metadata": {
        "id": "Dx9BFQ8-KL7W"
      },
      "execution_count": 12,
      "outputs": []
    },
    {
      "cell_type": "code",
      "source": [
        "X_train"
      ],
      "metadata": {
        "colab": {
          "base_uri": "https://localhost:8080/"
        },
        "id": "xF6dvXZcS8SZ",
        "outputId": "7e31ff2a-96e8-464d-f1a7-7a85d7eae741"
      },
      "execution_count": 33,
      "outputs": [
        {
          "output_type": "execute_result",
          "data": {
            "text/plain": [
              "array([[-0.00188202, -0.04464164, -0.06979687, ..., -0.03949338,\n",
              "        -0.06291688,  0.04034337],\n",
              "       [-0.00914709, -0.04464164,  0.01103904, ..., -0.03949338,\n",
              "         0.01703607, -0.0052198 ],\n",
              "       [ 0.02354575,  0.05068012, -0.02021751, ..., -0.03949338,\n",
              "        -0.09643495, -0.01764613],\n",
              "       ...,\n",
              "       [ 0.06350368,  0.05068012, -0.00405033, ..., -0.00259226,\n",
              "         0.08449153, -0.01764613],\n",
              "       [-0.05273755,  0.05068012, -0.01806189, ...,  0.1081111 ,\n",
              "         0.03606033, -0.04249877],\n",
              "       [ 0.00175052,  0.05068012,  0.05954058, ...,  0.1081111 ,\n",
              "         0.06898589,  0.12732762]])"
            ]
          },
          "metadata": {},
          "execution_count": 33
        }
      ]
    },
    {
      "cell_type": "code",
      "source": [
        "X_test"
      ],
      "metadata": {
        "colab": {
          "base_uri": "https://localhost:8080/"
        },
        "id": "_b5f7e0jS8fq",
        "outputId": "789be6dd-b5ad-479c-f06d-74694bec163c"
      },
      "execution_count": 34,
      "outputs": [
        {
          "output_type": "execute_result",
          "data": {
            "text/plain": [
              "array([[ 0.06713621, -0.04464164,  0.00349435,  0.03564379,  0.0493413 ,\n",
              "         0.03125356,  0.07072993, -0.03949338, -0.00061174,  0.01963284],\n",
              "       [-0.07816532,  0.05068012,  0.07786339,  0.05285804,  0.07823631,\n",
              "         0.0644473 ,  0.02655027, -0.00259226,  0.04067283, -0.00936191],\n",
              "       [ 0.04170844,  0.05068012, -0.01482845, -0.01713512, -0.00569682,\n",
              "         0.00839372, -0.01394774, -0.00185424, -0.01189685,  0.00306441],\n",
              "       [-0.04547248, -0.04464164, -0.04824063, -0.01944183, -0.00019301,\n",
              "        -0.01603186,  0.06704829, -0.03949338, -0.02479543,  0.01963284],\n",
              "       [ 0.0090156 ,  0.05068012,  0.06924089,  0.05974375,  0.01769438,\n",
              "        -0.02323427, -0.04708248,  0.03430886,  0.10329702,  0.07348023],\n",
              "       [ 0.03444337,  0.05068012,  0.12528712,  0.02875809, -0.05385517,\n",
              "        -0.01290037, -0.10230705,  0.1081111 ,  0.00027248,  0.02791705],\n",
              "       [-0.03457486, -0.04464164, -0.05901875,  0.00121528, -0.05385517,\n",
              "        -0.07803525,  0.06704829, -0.0763945 , -0.02139531,  0.01549073],\n",
              "       [-0.04910502, -0.04464164, -0.05686312, -0.04354178, -0.04559945,\n",
              "        -0.04327577,  0.00077881, -0.03949338, -0.01189685,  0.01549073],\n",
              "       [ 0.03081083, -0.04464164, -0.03315126, -0.02288468, -0.0469754 ,\n",
              "        -0.08116674,  0.10386467, -0.0763945 , -0.03980883, -0.05492509],\n",
              "       [-0.03094232,  0.05068012,  0.05954058,  0.00121528,  0.01219057,\n",
              "         0.03156671, -0.04340085,  0.03430886,  0.01482098,  0.00720652],\n",
              "       [-0.00914709,  0.05068012,  0.00133873, -0.00222757,  0.07961226,\n",
              "         0.07008397,  0.03391355, -0.00259226,  0.02671684,  0.08176444],\n",
              "       [ 0.03807591,  0.05068012, -0.01806189,  0.06662945, -0.05110326,\n",
              "        -0.01665815, -0.07653559,  0.03430886, -0.01189685, -0.01350402],\n",
              "       [ 0.0090156 ,  0.05068012,  0.03043966,  0.04252949, -0.00294491,\n",
              "         0.03689023, -0.06549067,  0.07120998, -0.02364686,  0.01549073],\n",
              "       [ 0.05987114, -0.04464164, -0.00081689, -0.08485599,  0.0754844 ,\n",
              "         0.07947843,  0.00446045,  0.03430886,  0.02337142,  0.02791705],\n",
              "       [ 0.02354575, -0.04464164,  0.11019775,  0.0631866 ,  0.01356652,\n",
              "        -0.03294187, -0.02499266,  0.02065544,  0.09924058,  0.02377494],\n",
              "       [ 0.0090156 , -0.04464164, -0.03207344, -0.02632753,  0.04246153,\n",
              "        -0.01039518,  0.15908923, -0.0763945 , -0.01189685, -0.03835666],\n",
              "       [-0.04547248, -0.04464164,  0.03906215,  0.00121528,  0.01631843,\n",
              "         0.01528299, -0.02867429,  0.02655962,  0.04452873, -0.02593034],\n",
              "       [-0.06726771, -0.04464164, -0.05901875,  0.03220094, -0.05110326,\n",
              "        -0.04953874, -0.01026611, -0.03949338,  0.00200444,  0.02377494],\n",
              "       [-0.03457486,  0.05068012, -0.02560657, -0.01713512,  0.00118295,\n",
              "        -0.00287962,  0.00814208, -0.01550765,  0.01482098,  0.04034337],\n",
              "       [ 0.04170844,  0.05068012, -0.01590626,  0.01729339, -0.03734373,\n",
              "        -0.01383982, -0.02499266, -0.01107952, -0.04688253,  0.01549073],\n",
              "       [ 0.00538306, -0.04464164,  0.05846277, -0.04354178, -0.07311851,\n",
              "        -0.07239858,  0.019187  , -0.0763945 , -0.05140387, -0.02593034],\n",
              "       [-0.0382074 ,  0.05068012,  0.07139652, -0.05731319,  0.15391371,\n",
              "         0.15588665,  0.00077881,  0.071948  ,  0.05028067,  0.06933812],\n",
              "       [ 0.0090156 ,  0.05068012, -0.03961813,  0.02875809,  0.03833367,\n",
              "         0.0735286 , -0.07285395,  0.1081111 ,  0.01556846, -0.04664087],\n",
              "       [ 0.04170844,  0.05068012,  0.01211685,  0.03908664,  0.05484511,\n",
              "         0.0444058 ,  0.00446045, -0.00259226,  0.04560437, -0.0010777 ],\n",
              "       [ 0.03081083, -0.04464164, -0.02021751, -0.00567042, -0.00432087,\n",
              "        -0.02949724,  0.0780932 , -0.03949338, -0.01090325, -0.0010777 ],\n",
              "       [-0.02730979, -0.04464164,  0.04768465, -0.04698463,  0.03420581,\n",
              "         0.05724488, -0.08021722,  0.13025177,  0.04506655,  0.13146972],\n",
              "       [ 0.01628068,  0.05068012,  0.07247433,  0.076958  , -0.00844872,\n",
              "         0.00557539, -0.00658447, -0.00259226, -0.02364686,  0.06105391],\n",
              "       [ 0.0090156 , -0.04464164, -0.02452876, -0.02632753,  0.0988756 ,\n",
              "         0.0941964 ,  0.07072993, -0.00259226, -0.02139531,  0.00720652],\n",
              "       [ 0.00175052, -0.04464164, -0.03961813, -0.10093411, -0.02908802,\n",
              "        -0.03012354,  0.04495846, -0.05019471, -0.06833155, -0.12948301],\n",
              "       [-0.04547248,  0.05068012,  0.06385183,  0.0700723 ,  0.13327442,\n",
              "         0.13146107, -0.03971921,  0.1081111 ,  0.07574055,  0.08590655],\n",
              "       [-0.02004471, -0.04464164,  0.08540807, -0.03665608,  0.09199583,\n",
              "         0.08949918, -0.06180903,  0.14501222,  0.08094556,  0.05276969],\n",
              "       [-0.00188202, -0.04464164, -0.06656343,  0.00121528, -0.00294491,\n",
              "         0.0030702 ,  0.01182372, -0.00259226, -0.02029232, -0.02593034],\n",
              "       [-0.09632802, -0.04464164, -0.06979687, -0.06764174, -0.01945635,\n",
              "        -0.01070833,  0.01550536, -0.03949338, -0.04688253, -0.07977773],\n",
              "       [-0.00551455,  0.05068012, -0.03315126, -0.01599898,  0.00806271,\n",
              "         0.01622244,  0.01550536, -0.00259226, -0.02832317, -0.07563562],\n",
              "       [-0.01641217,  0.05068012,  0.00241654,  0.01498668,  0.02182224,\n",
              "        -0.01008203, -0.02499266,  0.03430886,  0.08553071,  0.08176444],\n",
              "       [-0.00551455, -0.04464164,  0.00888341, -0.05042748,  0.0259501 ,\n",
              "         0.04722413, -0.04340085,  0.07120998,  0.01482098,  0.00306441],\n",
              "       [ 0.04534098,  0.05068012,  0.01966154,  0.03908664,  0.02044629,\n",
              "         0.02593004,  0.00814208, -0.00259226, -0.00330084,  0.01963284],\n",
              "       [ 0.03807591,  0.05068012,  0.0164281 ,  0.02187239,  0.03970963,\n",
              "         0.04503209, -0.04340085,  0.07120998,  0.0497702 ,  0.01549073],\n",
              "       [ 0.01628068, -0.04464164, -0.02884001, -0.00911327, -0.00432087,\n",
              "        -0.00976889,  0.04495846, -0.03949338, -0.03074792, -0.04249877],\n",
              "       [ 0.05987114, -0.04464164, -0.02129532,  0.08728655,  0.04521344,\n",
              "         0.03156671, -0.04708248,  0.07120998,  0.07912244,  0.13561183],\n",
              "       [-0.06000263,  0.05068012,  0.05415152, -0.01944183, -0.04972731,\n",
              "        -0.04891244,  0.02286863, -0.03949338, -0.04398377, -0.0052198 ],\n",
              "       [ 0.03807591,  0.05068012, -0.02452876,  0.00465813, -0.02633611,\n",
              "        -0.02636575,  0.01550536, -0.03949338, -0.01599887, -0.02593034],\n",
              "       [-0.07453279,  0.05068012,  0.05522933, -0.04009893,  0.05346915,\n",
              "         0.05317395, -0.04340085,  0.07120998,  0.06123763, -0.03421455],\n",
              "       [-0.04547248,  0.05068012, -0.02452876,  0.05974375,  0.0053108 ,\n",
              "         0.01496984, -0.05444576,  0.07120998,  0.04234098,  0.01549073],\n",
              "       [ 0.08529891,  0.05068012,  0.04445121, -0.00567042, -0.04559945,\n",
              "        -0.03419447, -0.03235593, -0.00259226,  0.00286131, -0.02593034],\n",
              "       [-0.06726771,  0.05068012, -0.01267283, -0.04009893, -0.01532849,\n",
              "         0.00463594, -0.0581274 ,  0.03430886,  0.01919647, -0.03421455],\n",
              "       [ 0.0562386 ,  0.05068012,  0.02181716,  0.0563009 , -0.00707277,\n",
              "         0.01810133, -0.03235593, -0.00259226, -0.02364686,  0.02377494],\n",
              "       [ 0.02354575,  0.05068012,  0.06169621,  0.06205046,  0.02457414,\n",
              "        -0.03607336, -0.09126214,  0.15534454,  0.13339674,  0.08176444],\n",
              "       [ 0.01628068,  0.05068012, -0.046085  ,  0.01154383, -0.03321588,\n",
              "        -0.01603186, -0.01026611, -0.00259226, -0.04398377, -0.04249877],\n",
              "       [ 0.08166637,  0.05068012,  0.00672779, -0.00453428,  0.10988322,\n",
              "         0.11705624, -0.03235593,  0.09187461,  0.05471997,  0.00720652],\n",
              "       [-0.02730979,  0.05068012,  0.06061839,  0.10794366,  0.01219057,\n",
              "        -0.0175976 , -0.00290283, -0.00259226,  0.07020738,  0.13561183],\n",
              "       [-0.05273755, -0.04464164,  0.05415152, -0.02632753, -0.05523112,\n",
              "        -0.03388132, -0.01394774, -0.03949338, -0.07409261, -0.05906719],\n",
              "       [-0.04910502, -0.04464164,  0.00457217,  0.01154383, -0.03734373,\n",
              "        -0.01853704, -0.01762938, -0.00259226, -0.03980883, -0.02178823],\n",
              "       [ 0.07803383,  0.05068012, -0.02452876, -0.04240564,  0.00668676,\n",
              "         0.05286081, -0.06917231,  0.08080427, -0.03712884,  0.0569118 ],\n",
              "       [ 0.05987114,  0.05068012,  0.02289497,  0.04941519,  0.01631843,\n",
              "         0.01183836, -0.01394774, -0.00259226,  0.03954249,  0.01963284],\n",
              "       [ 0.02354575,  0.05068012, -0.03099563, -0.00567042, -0.01670444,\n",
              "         0.01778818, -0.03235593, -0.00259226, -0.07409261, -0.03421455],\n",
              "       [ 0.04170844,  0.05068012, -0.03854032,  0.05285804,  0.07686035,\n",
              "         0.11642994, -0.03971921,  0.07120998, -0.02251653, -0.01350402],\n",
              "       [-0.04183994, -0.04464164, -0.04931844, -0.03665608, -0.00707277,\n",
              "        -0.02260797,  0.08545648, -0.03949338, -0.0664902 ,  0.00720652],\n",
              "       [-0.00914709, -0.04464164, -0.01590626,  0.0700723 ,  0.01219057,\n",
              "         0.02217226,  0.01550536, -0.00259226, -0.03324559,  0.04862759],\n",
              "       [-0.06363517, -0.04464164,  0.03582872, -0.02288468, -0.03046397,\n",
              "        -0.01885019, -0.00658447, -0.00259226, -0.02595311, -0.05492509],\n",
              "       [ 0.05260606,  0.05068012, -0.02452876,  0.0563009 , -0.00707277,\n",
              "        -0.00507166, -0.02131102, -0.00259226,  0.02671684, -0.03835666],\n",
              "       [ 0.05987114,  0.05068012,  0.04121778,  0.01154383,  0.04108558,\n",
              "         0.07071027, -0.03603757,  0.03430886, -0.01090325, -0.03007245],\n",
              "       [ 0.04170844, -0.04464164, -0.00836158, -0.02632753,  0.02457414,\n",
              "         0.01622244,  0.07072993, -0.03949338, -0.04835926, -0.03007245],\n",
              "       [-0.00551455, -0.04464164,  0.0433734 ,  0.08728655,  0.01356652,\n",
              "         0.00714113, -0.01394774, -0.00259226,  0.04234098, -0.01764613],\n",
              "       [-0.00914709,  0.05068012, -0.01806189, -0.03321323, -0.0208323 ,\n",
              "         0.01215151, -0.07285395,  0.07120998,  0.00027248,  0.01963284],\n",
              "       [ 0.06350368,  0.05068012, -0.00189471,  0.06662945,  0.09061988,\n",
              "         0.10891438,  0.02286863,  0.01770335, -0.03581619,  0.00306441],\n",
              "       [ 0.01628068,  0.05068012,  0.00996123, -0.04354178, -0.09650971,\n",
              "        -0.09463212, -0.03971921, -0.03949338,  0.01703607,  0.00720652],\n",
              "       [ 0.01264814, -0.04464164, -0.02021751, -0.01599898,  0.01219057,\n",
              "         0.02123281, -0.07653559,  0.1081111 ,  0.0598794 , -0.02178823],\n",
              "       [ 0.01628068, -0.04464164, -0.046085  , -0.00567042, -0.07587041,\n",
              "        -0.06143838, -0.01394774, -0.03949338, -0.05140387,  0.01963284],\n",
              "       [-0.00188202,  0.05068012, -0.03315126, -0.01830569,  0.03145391,\n",
              "         0.04284006, -0.01394774,  0.01991742,  0.01022672,  0.02791705],\n",
              "       [ 0.07440129, -0.04464164,  0.114509  ,  0.02875809,  0.02457414,\n",
              "         0.02499059,  0.019187  , -0.00259226, -0.00061174, -0.0052198 ],\n",
              "       [-0.00551455, -0.04464164,  0.06492964,  0.03564379, -0.00156896,\n",
              "         0.01496984, -0.01394774,  0.00072884, -0.01811369,  0.03205916],\n",
              "       [ 0.05260606, -0.04464164, -0.02129532, -0.07452744, -0.04009564,\n",
              "        -0.0376391 , -0.00658447, -0.03949338, -0.00061174, -0.05492509],\n",
              "       [-0.02367725,  0.05068012, -0.02560657,  0.04252949, -0.05385517,\n",
              "        -0.04765985, -0.02131102, -0.03949338,  0.00114758,  0.01963284],\n",
              "       [ 0.01628068, -0.04464164, -0.04716281, -0.00222757, -0.01945635,\n",
              "        -0.04296262,  0.03391355, -0.03949338,  0.02736405,  0.02791705],\n",
              "       [-0.05273755, -0.04464164, -0.01267283, -0.06075604, -0.00019301,\n",
              "         0.00808058,  0.01182372, -0.00259226, -0.02712902, -0.05078298],\n",
              "       [-0.09632802, -0.04464164, -0.03638469, -0.07452744, -0.03871969,\n",
              "        -0.02761835,  0.01550536, -0.03949338, -0.07409261, -0.0010777 ],\n",
              "       [-0.00551455,  0.05068012,  0.00133873, -0.08485599, -0.01120063,\n",
              "        -0.01665815,  0.0486401 , -0.03949338, -0.04117617, -0.08806194],\n",
              "       [ 0.00175052,  0.05068012,  0.01103904, -0.01944183, -0.01670444,\n",
              "        -0.00381907, -0.04708248,  0.03430886,  0.02405509,  0.02377494],\n",
              "       [-0.10359309,  0.05068012, -0.046085  , -0.02632753, -0.02496016,\n",
              "        -0.02480001,  0.03023191, -0.03949338, -0.03980883, -0.05492509],\n",
              "       [-0.04547248, -0.04464164,  0.01535029, -0.07452744, -0.04972731,\n",
              "        -0.01728445, -0.02867429, -0.00259226, -0.10436552, -0.07563562],\n",
              "       [ 0.00175052,  0.05068012, -0.05794093, -0.04354178, -0.09650971,\n",
              "        -0.04703355, -0.09862541,  0.03430886, -0.0611758 , -0.07149352],\n",
              "       [-0.0382074 , -0.04464164,  0.06708527, -0.06075604, -0.02908802,\n",
              "        -0.02323427, -0.01026611, -0.00259226, -0.00149595,  0.01963284],\n",
              "       [-0.05273755,  0.05068012,  0.09834182,  0.08728655,  0.06034892,\n",
              "         0.04878988, -0.0581274 ,  0.1081111 ,  0.08449153,  0.04034337],\n",
              "       [ 0.0090156 , -0.04464164,  0.0164281 ,  0.00465813,  0.00943866,\n",
              "         0.01058576, -0.02867429,  0.03430886,  0.03896821,  0.1190434 ],\n",
              "       [-0.05273755, -0.04464164,  0.07139652, -0.07452744, -0.01532849,\n",
              "        -0.00131388,  0.00446045, -0.02141183, -0.04688253,  0.00306441],\n",
              "       [ 0.03081083, -0.04464164,  0.10480869,  0.076958  , -0.01120063,\n",
              "        -0.01133463, -0.0581274 ,  0.03430886,  0.05710826,  0.03620126],\n",
              "       [ 0.02354575, -0.04464164,  0.0703187 ,  0.02531524, -0.03459183,\n",
              "        -0.01446611, -0.03235593, -0.00259226, -0.01919845, -0.00936191],\n",
              "       [ 0.0562386 ,  0.05068012, -0.03099563,  0.00810098,  0.01907033,\n",
              "         0.02123281,  0.03391355, -0.03949338, -0.02952643, -0.05906719]])"
            ]
          },
          "metadata": {},
          "execution_count": 34
        }
      ]
    },
    {
      "cell_type": "code",
      "source": [
        "y_train"
      ],
      "metadata": {
        "id": "dy44qr8KS8oT"
      },
      "execution_count": null,
      "outputs": []
    },
    {
      "cell_type": "code",
      "source": [
        "y_test"
      ],
      "metadata": {
        "id": "fOJgqVZKS8vv"
      },
      "execution_count": null,
      "outputs": []
    },
    {
      "cell_type": "code",
      "source": [
        "print(X_train.shape)\n",
        "print(X_test.shape)"
      ],
      "metadata": {
        "colab": {
          "base_uri": "https://localhost:8080/"
        },
        "id": "aIrL5G8LK9zk",
        "outputId": "c192f8dd-4782-4e7f-a161-28a304da10ba"
      },
      "execution_count": 13,
      "outputs": [
        {
          "output_type": "stream",
          "name": "stdout",
          "text": [
            "(353, 10)\n",
            "(89, 10)\n"
          ]
        }
      ]
    },
    {
      "cell_type": "code",
      "source": [
        "from sklearn.linear_model import LinearRegression\n",
        "\n",
        "model=LinearRegression()"
      ],
      "metadata": {
        "id": "M5JVWxDjLqbN"
      },
      "execution_count": 14,
      "outputs": []
    },
    {
      "cell_type": "code",
      "source": [
        "model.fit(X_train,y_train)"
      ],
      "metadata": {
        "colab": {
          "base_uri": "https://localhost:8080/",
          "height": 75
        },
        "id": "24z0L0vUL5Ag",
        "outputId": "0c06cdb1-ae6b-4995-e2ff-30c38dbf3be5"
      },
      "execution_count": 15,
      "outputs": [
        {
          "output_type": "execute_result",
          "data": {
            "text/plain": [
              "LinearRegression()"
            ],
            "text/html": [
              "<style>#sk-container-id-1 {color: black;background-color: white;}#sk-container-id-1 pre{padding: 0;}#sk-container-id-1 div.sk-toggleable {background-color: white;}#sk-container-id-1 label.sk-toggleable__label {cursor: pointer;display: block;width: 100%;margin-bottom: 0;padding: 0.3em;box-sizing: border-box;text-align: center;}#sk-container-id-1 label.sk-toggleable__label-arrow:before {content: \"▸\";float: left;margin-right: 0.25em;color: #696969;}#sk-container-id-1 label.sk-toggleable__label-arrow:hover:before {color: black;}#sk-container-id-1 div.sk-estimator:hover label.sk-toggleable__label-arrow:before {color: black;}#sk-container-id-1 div.sk-toggleable__content {max-height: 0;max-width: 0;overflow: hidden;text-align: left;background-color: #f0f8ff;}#sk-container-id-1 div.sk-toggleable__content pre {margin: 0.2em;color: black;border-radius: 0.25em;background-color: #f0f8ff;}#sk-container-id-1 input.sk-toggleable__control:checked~div.sk-toggleable__content {max-height: 200px;max-width: 100%;overflow: auto;}#sk-container-id-1 input.sk-toggleable__control:checked~label.sk-toggleable__label-arrow:before {content: \"▾\";}#sk-container-id-1 div.sk-estimator input.sk-toggleable__control:checked~label.sk-toggleable__label {background-color: #d4ebff;}#sk-container-id-1 div.sk-label input.sk-toggleable__control:checked~label.sk-toggleable__label {background-color: #d4ebff;}#sk-container-id-1 input.sk-hidden--visually {border: 0;clip: rect(1px 1px 1px 1px);clip: rect(1px, 1px, 1px, 1px);height: 1px;margin: -1px;overflow: hidden;padding: 0;position: absolute;width: 1px;}#sk-container-id-1 div.sk-estimator {font-family: monospace;background-color: #f0f8ff;border: 1px dotted black;border-radius: 0.25em;box-sizing: border-box;margin-bottom: 0.5em;}#sk-container-id-1 div.sk-estimator:hover {background-color: #d4ebff;}#sk-container-id-1 div.sk-parallel-item::after {content: \"\";width: 100%;border-bottom: 1px solid gray;flex-grow: 1;}#sk-container-id-1 div.sk-label:hover label.sk-toggleable__label {background-color: #d4ebff;}#sk-container-id-1 div.sk-serial::before {content: \"\";position: absolute;border-left: 1px solid gray;box-sizing: border-box;top: 0;bottom: 0;left: 50%;z-index: 0;}#sk-container-id-1 div.sk-serial {display: flex;flex-direction: column;align-items: center;background-color: white;padding-right: 0.2em;padding-left: 0.2em;position: relative;}#sk-container-id-1 div.sk-item {position: relative;z-index: 1;}#sk-container-id-1 div.sk-parallel {display: flex;align-items: stretch;justify-content: center;background-color: white;position: relative;}#sk-container-id-1 div.sk-item::before, #sk-container-id-1 div.sk-parallel-item::before {content: \"\";position: absolute;border-left: 1px solid gray;box-sizing: border-box;top: 0;bottom: 0;left: 50%;z-index: -1;}#sk-container-id-1 div.sk-parallel-item {display: flex;flex-direction: column;z-index: 1;position: relative;background-color: white;}#sk-container-id-1 div.sk-parallel-item:first-child::after {align-self: flex-end;width: 50%;}#sk-container-id-1 div.sk-parallel-item:last-child::after {align-self: flex-start;width: 50%;}#sk-container-id-1 div.sk-parallel-item:only-child::after {width: 0;}#sk-container-id-1 div.sk-dashed-wrapped {border: 1px dashed gray;margin: 0 0.4em 0.5em 0.4em;box-sizing: border-box;padding-bottom: 0.4em;background-color: white;}#sk-container-id-1 div.sk-label label {font-family: monospace;font-weight: bold;display: inline-block;line-height: 1.2em;}#sk-container-id-1 div.sk-label-container {text-align: center;}#sk-container-id-1 div.sk-container {/* jupyter's `normalize.less` sets `[hidden] { display: none; }` but bootstrap.min.css set `[hidden] { display: none !important; }` so we also need the `!important` here to be able to override the default hidden behavior on the sphinx rendered scikit-learn.org. See: https://github.com/scikit-learn/scikit-learn/issues/21755 */display: inline-block !important;position: relative;}#sk-container-id-1 div.sk-text-repr-fallback {display: none;}</style><div id=\"sk-container-id-1\" class=\"sk-top-container\"><div class=\"sk-text-repr-fallback\"><pre>LinearRegression()</pre><b>In a Jupyter environment, please rerun this cell to show the HTML representation or trust the notebook. <br />On GitHub, the HTML representation is unable to render, please try loading this page with nbviewer.org.</b></div><div class=\"sk-container\" hidden><div class=\"sk-item\"><div class=\"sk-estimator sk-toggleable\"><input class=\"sk-toggleable__control sk-hidden--visually\" id=\"sk-estimator-id-1\" type=\"checkbox\" checked><label for=\"sk-estimator-id-1\" class=\"sk-toggleable__label sk-toggleable__label-arrow\">LinearRegression</label><div class=\"sk-toggleable__content\"><pre>LinearRegression()</pre></div></div></div></div></div>"
            ]
          },
          "metadata": {},
          "execution_count": 15
        }
      ]
    },
    {
      "cell_type": "code",
      "source": [
        "y_pred=model.predict(X_test)"
      ],
      "metadata": {
        "id": "qRD7gM38MB0D"
      },
      "execution_count": 16,
      "outputs": []
    },
    {
      "cell_type": "code",
      "source": [
        "from sklearn.metrics import r2_score"
      ],
      "metadata": {
        "id": "eUjSNKNtMOif"
      },
      "execution_count": 17,
      "outputs": []
    },
    {
      "cell_type": "code",
      "source": [
        "r2_score(y_test,y_pred)"
      ],
      "metadata": {
        "colab": {
          "base_uri": "https://localhost:8080/"
        },
        "id": "ilSRk-9VMXqN",
        "outputId": "0699ada8-c6c6-481a-946a-1f667752c04d"
      },
      "execution_count": 18,
      "outputs": [
        {
          "output_type": "execute_result",
          "data": {
            "text/plain": [
              "0.4399338661568968"
            ]
          },
          "metadata": {},
          "execution_count": 18
        }
      ]
    },
    {
      "cell_type": "code",
      "source": [
        "model.coef_"
      ],
      "metadata": {
        "colab": {
          "base_uri": "https://localhost:8080/"
        },
        "id": "C-7lciWvMcjD",
        "outputId": "892a5ee0-d26f-491b-ed8c-2e22e7dd7790"
      },
      "execution_count": 20,
      "outputs": [
        {
          "output_type": "execute_result",
          "data": {
            "text/plain": [
              "array([  -9.15865318, -205.45432163,  516.69374454,  340.61999905,\n",
              "       -895.5520019 ,  561.22067904,  153.89310954,  126.73139688,\n",
              "        861.12700152,   52.42112238])"
            ]
          },
          "metadata": {},
          "execution_count": 20
        }
      ]
    },
    {
      "cell_type": "code",
      "source": [
        "model.intercept_"
      ],
      "metadata": {
        "colab": {
          "base_uri": "https://localhost:8080/"
        },
        "id": "qddqgjnAMite",
        "outputId": "4deabde6-a08c-478b-9e44-1e62b62fccb9"
      },
      "execution_count": 21,
      "outputs": [
        {
          "output_type": "execute_result",
          "data": {
            "text/plain": [
              "151.88331005254167"
            ]
          },
          "metadata": {},
          "execution_count": 21
        }
      ]
    },
    {
      "cell_type": "markdown",
      "source": [
        "# Making own Linear Regression Class"
      ],
      "metadata": {
        "id": "iC23gwSEMysl"
      }
    },
    {
      "cell_type": "code",
      "source": [
        "class my_LR:\n",
        "\n",
        "  def __init__(self):\n",
        "    self.coef_=None\n",
        "    self.intercept_=None\n",
        "\n",
        "  def fit(self , X_train, y_train):\n",
        "    X_train=np.insert(X_train,0,1,axis=1)\n",
        "\n",
        "    # calculate the coef_\n",
        "    betas=np.linalg.inv(np.dot(X_train.T , X_train)) . dot (X_train.T) . dot (y_train)\n",
        "\n",
        "    self.intercept_ = betas[0]\n",
        "    self.coef_ = betas[1:]\n",
        "\n",
        "  def predict (self, X_test):\n",
        "    return np.dot(X_test,self.coef_)+self.intercept_\n",
        "    \n"
      ],
      "metadata": {
        "id": "o_xMun4sMtHI"
      },
      "execution_count": 22,
      "outputs": []
    },
    {
      "cell_type": "code",
      "source": [
        "model1=my_LR()"
      ],
      "metadata": {
        "id": "xx4Uy_Z3O1WG"
      },
      "execution_count": 25,
      "outputs": []
    },
    {
      "cell_type": "code",
      "source": [
        "model1.fit(X_train,y_train)"
      ],
      "metadata": {
        "id": "CLOm1SXOPBDA"
      },
      "execution_count": 26,
      "outputs": []
    },
    {
      "cell_type": "code",
      "source": [
        "X_train.shape"
      ],
      "metadata": {
        "colab": {
          "base_uri": "https://localhost:8080/"
        },
        "id": "bMZNvzSIPPy2",
        "outputId": "4c06d37d-5eee-44f6-ecfa-c3d8a4401cf6"
      },
      "execution_count": 27,
      "outputs": [
        {
          "output_type": "execute_result",
          "data": {
            "text/plain": [
              "(353, 10)"
            ]
          },
          "metadata": {},
          "execution_count": 27
        }
      ]
    },
    {
      "cell_type": "code",
      "source": [
        "np.insert(X_train,0,1,axis=1).shape"
      ],
      "metadata": {
        "colab": {
          "base_uri": "https://localhost:8080/"
        },
        "id": "BZ-y6tpyPcSr",
        "outputId": "839f9644-1576-4354-d4e8-95b6723e5241"
      },
      "execution_count": 28,
      "outputs": [
        {
          "output_type": "execute_result",
          "data": {
            "text/plain": [
              "(353, 11)"
            ]
          },
          "metadata": {},
          "execution_count": 28
        }
      ]
    },
    {
      "cell_type": "code",
      "source": [
        "y_pred=model1.predict(X_test)"
      ],
      "metadata": {
        "id": "LcYT6HiiPmTw"
      },
      "execution_count": 29,
      "outputs": []
    },
    {
      "cell_type": "code",
      "source": [
        "r2_score(y_test,y_pred)"
      ],
      "metadata": {
        "colab": {
          "base_uri": "https://localhost:8080/"
        },
        "id": "N-1Zu2L9SHnT",
        "outputId": "b12fcad9-1ba5-4e57-f83b-b64f65d838e1"
      },
      "execution_count": 30,
      "outputs": [
        {
          "output_type": "execute_result",
          "data": {
            "text/plain": [
              "0.43993386615689634"
            ]
          },
          "metadata": {},
          "execution_count": 30
        }
      ]
    },
    {
      "cell_type": "code",
      "source": [
        "model1.coef_"
      ],
      "metadata": {
        "colab": {
          "base_uri": "https://localhost:8080/"
        },
        "id": "xf01clgASN49",
        "outputId": "ca57adc3-0ea7-4eef-c99d-bdb41a61d50d"
      },
      "execution_count": 31,
      "outputs": [
        {
          "output_type": "execute_result",
          "data": {
            "text/plain": [
              "array([  -9.15865318, -205.45432163,  516.69374454,  340.61999905,\n",
              "       -895.5520019 ,  561.22067904,  153.89310954,  126.73139688,\n",
              "        861.12700152,   52.42112238])"
            ]
          },
          "metadata": {},
          "execution_count": 31
        }
      ]
    },
    {
      "cell_type": "code",
      "source": [
        "model1.intercept_"
      ],
      "metadata": {
        "colab": {
          "base_uri": "https://localhost:8080/"
        },
        "id": "zLgB8K81SUfP",
        "outputId": "ba783e8b-b83e-4caa-e13b-0b6ece4295d2"
      },
      "execution_count": 32,
      "outputs": [
        {
          "output_type": "execute_result",
          "data": {
            "text/plain": [
              "151.88331005254165"
            ]
          },
          "metadata": {},
          "execution_count": 32
        }
      ]
    },
    {
      "cell_type": "code",
      "source": [],
      "metadata": {
        "id": "rYpWtUsuSZMn"
      },
      "execution_count": null,
      "outputs": []
    }
  ]
}
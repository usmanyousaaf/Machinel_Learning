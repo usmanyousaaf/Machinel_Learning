{
 "cells": [
  {
   "cell_type": "code",
   "execution_count": 1,
   "id": "040bed01",
   "metadata": {},
   "outputs": [],
   "source": [
    "# Define the transition probabilities\n",
    "transition_probs = {\n",
    "    'A': {'A': 0.7, 'D': 0.2, 'S': 0.1},\n",
    "    'D': {'A': 0.4, 'D': 0.4, 'S': 0.2},\n",
    "    'S': {'A': 0.1, 'D': 0.3, 'S': 0.6}\n",
    "}\n",
    "\n",
    "# Define the emission probabilities\n",
    "emission_probs = {\n",
    "    'A': {'H': 0.8, 'Y': 0.2},\n",
    "    'D': {'H': 0.5, 'Y': 0.5},\n",
    "    'S': {'H': 0.1, 'Y': 0.9}\n",
    "}\n",
    "\n",
    "# Define the initial probabilities\n",
    "initial_probs = {'A': 0.4, 'D': 0.3, 'S': 0.3}\n",
    "\n",
    "# Define the observations\n",
    "observations = ['H', 'Y', 'H']\n",
    "\n"
   ]
  },
  {
   "cell_type": "code",
   "execution_count": 2,
   "id": "ff0533c5",
   "metadata": {},
   "outputs": [],
   "source": [
    "# Calculate the probabilities of the sequences\n",
    "sequences = ['AAA', 'AAD', 'AAS', 'ADA', 'ADD', 'ADS', 'ASA', 'ASD', 'ASS',\n",
    "             'DAA', 'DAD', 'DAS', 'DDA', 'DDD', 'DDS', 'DSA', 'DSD', 'DSS',\n",
    "             'SAA', 'SAD', 'SAS', 'SDA', 'SDD', 'SDS', 'SSA', 'SSD', 'SSS']\n",
    "\n",
    "probabilities = {}\n",
    "for sequence in sequences:\n",
    "    prob = initial_probs[sequence[0]]\n",
    "    for i in range(len(sequence) - 1):\n",
    "        curr_state = sequence[i]\n",
    "        next_state = sequence[i+1]\n",
    "        prob *= transition_probs[curr_state][next_state] * emission_probs[next_state][observations[i]]\n",
    "    probabilities[sequence] = prob"
   ]
  },
  {
   "cell_type": "code",
   "execution_count": 3,
   "id": "f44343c3",
   "metadata": {},
   "outputs": [],
   "source": [
    "# Find the most likely sequence\n",
    "most_likely_sequence = max(probabilities, key=probabilities.get)\n",
    "most_likely_probability = probabilities[most_likely_sequence]"
   ]
  },
  {
   "cell_type": "code",
   "execution_count": 4,
   "id": "b8371349",
   "metadata": {},
   "outputs": [
    {
     "name": "stdout",
     "output_type": "stream",
     "text": [
      "P(AAA) = 0.03135999999999999\n",
      "P(AAD) = 0.0224\n",
      "P(AAS) = 0.02016\n",
      "P(ADA) = 0.0032000000000000015\n",
      "P(ADD) = 0.008000000000000002\n",
      "P(ADS) = 0.007200000000000002\n",
      "P(ASA) = 8.000000000000003e-05\n",
      "P(ASD) = 0.0006000000000000002\n",
      "P(ASS) = 0.0021600000000000005\n",
      "P(DAA) = 0.01344\n",
      "P(DAD) = 0.009600000000000003\n",
      "P(DAS) = 0.008640000000000002\n",
      "P(DDA) = 0.0048000000000000004\n",
      "P(DDD) = 0.012\n",
      "P(DDS) = 0.0108\n",
      "P(DSA) = 0.00012000000000000004\n",
      "P(DSD) = 0.0009000000000000001\n",
      "P(DSS) = 0.0032400000000000007\n",
      "P(SAA) = 0.00336\n",
      "P(SAD) = 0.0024000000000000007\n",
      "P(SAS) = 0.0021600000000000005\n",
      "P(SDA) = 0.0036000000000000008\n",
      "P(SDD) = 0.009\n",
      "P(SDS) = 0.008100000000000001\n",
      "P(SSA) = 0.00036\n",
      "P(SSD) = 0.0026999999999999997\n",
      "P(SSS) = 0.00972\n"
     ]
    }
   ],
   "source": [
    "# Print the probabilities\n",
    "for sequence, prob in probabilities.items():\n",
    "    print(f'P({sequence}) = {prob}')"
   ]
  },
  {
   "cell_type": "code",
   "execution_count": 5,
   "id": "3fa7af54",
   "metadata": {},
   "outputs": [
    {
     "name": "stdout",
     "output_type": "stream",
     "text": [
      "\n",
      "The most likely sequence is: AAA (P = 0.03135999999999999)\n"
     ]
    }
   ],
   "source": [
    "# Print the most likely sequence\n",
    "print(f'\\nThe most likely sequence is: {most_likely_sequence} (P = {most_likely_probability})')"
   ]
  },
  {
   "cell_type": "code",
   "execution_count": null,
   "id": "44e6c8c0",
   "metadata": {},
   "outputs": [],
   "source": []
  }
 ],
 "metadata": {
  "kernelspec": {
   "display_name": "Python 3 (ipykernel)",
   "language": "python",
   "name": "python3"
  },
  "language_info": {
   "codemirror_mode": {
    "name": "ipython",
    "version": 3
   },
   "file_extension": ".py",
   "mimetype": "text/x-python",
   "name": "python",
   "nbconvert_exporter": "python",
   "pygments_lexer": "ipython3",
   "version": "3.9.7"
  }
 },
 "nbformat": 4,
 "nbformat_minor": 5
}
